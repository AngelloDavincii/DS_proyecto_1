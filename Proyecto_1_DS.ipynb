{
  "nbformat": 4,
  "nbformat_minor": 0,
  "metadata": {
    "interpreter": {
      "hash": "2757f2c2fa6babad547f4a3642c7cf29f9f98149abb7990afbb40d637e41adc8"
    },
    "kernelspec": {
      "name": "python3",
      "display_name": "Python 3.7.6 64-bit ('base': conda)"
    },
    "language_info": {
      "name": "python",
      "version": "3.7.6",
      "mimetype": "text/x-python",
      "codemirror_mode": {
        "name": "ipython",
        "version": 3
      },
      "pygments_lexer": "ipython3",
      "nbconvert_exporter": "python",
      "file_extension": ".py"
    },
    "colab": {
      "name": "Proyecto_1_DS.ipynb",
      "provenance": [],
      "collapsed_sections": []
    }
  },
  "cells": [
    {
      "cell_type": "markdown",
      "metadata": {
        "id": "jaaM9nKAOlUO"
      },
      "source": [
        "<h1><center>Proyecto 1 Data Science</center></h1>\n",
        "<h2><center>Catedrático Ing Luis Furlan</center></h2>\n",
        "<h3><center>Realizado por:</center></h3>\n",
        "<h3><center>Augusto Alonso, Rudik Rompich, David Cuellar</center></h3>\n",
        "<h3><center>Grupo #1</center></h3>"
      ]
    },
    {
      "cell_type": "code",
      "metadata": {
        "id": "PPaqIDyUOlUT"
      },
      "source": [
        "import pandas as pd \n",
        "import glob \n",
        "import numpy as np \n",
        "import matplotlib.pyplot as plt \n",
        "import numpy as np\n",
        "from pandas_profiling import ProfileReport"
      ],
      "execution_count": 1,
      "outputs": []
    },
    {
      "cell_type": "code",
      "metadata": {
        "id": "REyLLeQaO90i"
      },
      "source": [
        "url = 'https://github.com/AngelloDavincii/DS_proyecto_1/blob/main/data_xlsx/'\n",
        "url2 = 'https://github.com/AngelloDavincii/DS_proyecto_1/tree/main/data_xlsx/GUATEMALA/'\n",
        "       "
      ],
      "execution_count": 2,
      "outputs": []
    },
    {
      "cell_type": "code",
      "metadata": {
        "id": "4ARfyO9VZXrz"
      },
      "source": [
        "names = ['ALTA_VERAPAZ.xlsx', 'BAJA_VERAPAZ.xlsx', 'CHIMALTENANGO.xlsx', 'CHIQUIMULA.xlsx', 'CIUDAD_CAPITAL.xlsx', 'EL_PROGRESO.xlsx', \n",
        "          'ESCUINTLA.xlsx', 'HUEHUETENANGO.xlsx', 'IZABAL.xlsx', 'JALAPA.xlsx', 'JUTIAPA.xlsx', 'PETEN.xlsx', 'QUETZALTENANGO.xlsx', \n",
        "          'QUICHE.xlsx', 'RETALHULEU.xlsx', 'SACATEPEQUEZ.xlsx', 'SANTA_ROSA.xlsx', 'SAN_MARCOS.xlsx', 'SOLOLA.xlsx', 'SUCHITEPEQUEZ.xlsx',\n",
        "          'TOTONICAPAN.xlsx', 'ZACAPA.xlsx']\n",
        "names2 = ['BASICO.xlsx', 'DIVERSICADO.xlsx', 'PARVULOS.xlsx', 'PREPRIMARIA_BILINGUE.xlsx', 'PRIMARIA.xlsx', 'PRIMARIA_DE_ADULTOS.xlsx']\n"
      ],
      "execution_count": 3,
      "outputs": []
    },
    {
      "cell_type": "code",
      "metadata": {
        "id": "T8qpF_nRc2eo"
      },
      "source": [
        "a = 'https://github.com/AngelloDavincii/DS_proyecto_1/blob/main/data_xlsx/GUATEMALA/BASICO.xlsx?raw=true'\n",
        "b = 'https://github.com/AngelloDavincii/DS_proyecto_1/blob/main/data_xlsx/GUATEMALA/DIVERSICADO.xlsx?raw=true'\n",
        "c = 'https://github.com/AngelloDavincii/DS_proyecto_1/blob/main/data_xlsx/GUATEMALA/PARVULOS.xlsx?raw=true'\n",
        "d = 'https://github.com/AngelloDavincii/DS_proyecto_1/blob/main/data_xlsx/GUATEMALA/PREPRIMARIA_BILINGUE.xlsx?raw=true'\n",
        "e = 'https://github.com/AngelloDavincii/DS_proyecto_1/blob/main/data_xlsx/GUATEMALA/PRIMARIA.xlsx?raw=true'\n",
        "f = 'https://github.com/AngelloDavincii/DS_proyecto_1/blob/main/data_xlsx/GUATEMALA/PRIMARIA_DE_ADULTOS.xlsx?raw=true'\n",
        "# Sabemos que no es una manera elegante de importar los datos pero solo de esta manera pudimos agregar los nombres a la lista y luego importarlos en colab\n",
        "names3 = [a,b,c,d,e,f]"
      ],
      "execution_count": 4,
      "outputs": []
    },
    {
      "cell_type": "markdown",
      "metadata": {
        "id": "ExU549NiqsW8"
      },
      "source": [
        "Nota importante: <br>\n",
        "Nosotros decidimos concatenar todos los dataframes desde el inicio porque consideramos que era mucho más rápido y eficiente computacionalmente limpiar solamente un dataset en lugar de hacer la misma limpieza en todos los dataset iterando "
      ]
    },
    {
      "cell_type": "markdown",
      "metadata": {
        "id": "Hh7YGXi7OlUU"
      },
      "source": [
        "<h2><center>Departamento de Guatemala</center></h2>"
      ]
    },
    {
      "cell_type": "code",
      "metadata": {
        "id": "n26FTumceVbW"
      },
      "source": [
        "guate = []\n",
        "for j in names3:\n",
        "    df = pd.read_excel(j)\n",
        "    guate.append(df)\n",
        "df_guate = pd.concat(guate)"
      ],
      "execution_count": 5,
      "outputs": []
    },
    {
      "cell_type": "code",
      "metadata": {
        "id": "XtscbMeKOlUZ"
      },
      "source": [
        "# prof = ProfileReport(guatemala_departamento)\n",
        "# prof"
      ],
      "execution_count": 6,
      "outputs": []
    },
    {
      "cell_type": "markdown",
      "metadata": {
        "id": "RZgZG4stOlUf"
      },
      "source": [
        "<h2><center>Todos los departamentos</center></h2>"
      ]
    },
    {
      "cell_type": "code",
      "metadata": {
        "id": "MErCith_OlUg"
      },
      "source": [
        "departamentos = []\n",
        "for j in names:\n",
        "    path = url + j + '?raw=true'\n",
        "    df = pd.read_excel(path)\n",
        "    departamentos.append(df)\n",
        "\n",
        "departamentos.append(df_guate)"
      ],
      "execution_count": 7,
      "outputs": []
    },
    {
      "cell_type": "code",
      "metadata": {
        "id": "WL55FPdpOlUi"
      },
      "source": [
        "# Basicamente a los dataframes que no leemos bien los arreglamos \n",
        "departamentos2 = []\n",
        "lista = np.arange(8,20).tolist()\n",
        "\n",
        "for i,j in enumerate(departamentos):\n",
        "    \n",
        "    if i in lista:\n",
        "        new_header = j.iloc[0] #grab the first row for the header\n",
        "        df = j[1:] #take the data less the header row\n",
        "        df.columns = new_header #set the header row as the df header\n",
        "        departamentos2.append(df)\n",
        "    else:\n",
        "        departamentos2.append(j)\n"
      ],
      "execution_count": 8,
      "outputs": []
    },
    {
      "cell_type": "code",
      "metadata": {
        "id": "Q1aaxp0JOlUi"
      },
      "source": [
        "df_pais = pd.concat(departamentos2)"
      ],
      "execution_count": 9,
      "outputs": []
    },
    {
      "cell_type": "code",
      "metadata": {
        "id": "xMNusvGGOlUj",
        "colab": {
          "base_uri": "https://localhost:8080/"
        },
        "outputId": "10799979-1afb-4b85-f32b-fc4b93d333ae"
      },
      "source": [
        "df_pais.shape"
      ],
      "execution_count": 10,
      "outputs": [
        {
          "output_type": "execute_result",
          "data": {
            "text/plain": [
              "(65050, 17)"
            ]
          },
          "metadata": {
            "tags": []
          },
          "execution_count": 10
        }
      ]
    },
    {
      "cell_type": "code",
      "metadata": {
        "colab": {
          "base_uri": "https://localhost:8080/",
          "height": 626
        },
        "id": "DDN-QEDWgFE5",
        "outputId": "0fb9832e-21b6-45de-c015-ae0cf8bb503f"
      },
      "source": [
        "df.head()"
      ],
      "execution_count": 11,
      "outputs": [
        {
          "output_type": "execute_result",
          "data": {
            "text/html": [
              "<div>\n",
              "<style scoped>\n",
              "    .dataframe tbody tr th:only-of-type {\n",
              "        vertical-align: middle;\n",
              "    }\n",
              "\n",
              "    .dataframe tbody tr th {\n",
              "        vertical-align: top;\n",
              "    }\n",
              "\n",
              "    .dataframe thead th {\n",
              "        text-align: right;\n",
              "    }\n",
              "</style>\n",
              "<table border=\"1\" class=\"dataframe\">\n",
              "  <thead>\n",
              "    <tr style=\"text-align: right;\">\n",
              "      <th></th>\n",
              "      <th>CODIGO</th>\n",
              "      <th>DISTRITO</th>\n",
              "      <th>DEPARTAMENTO</th>\n",
              "      <th>MUNICIPIO</th>\n",
              "      <th>ESTABLECIMIENTO</th>\n",
              "      <th>DIRECCION</th>\n",
              "      <th>TELEFONO</th>\n",
              "      <th>SUPERVISOR</th>\n",
              "      <th>DIRECTOR</th>\n",
              "      <th>NIVEL</th>\n",
              "      <th>SECTOR</th>\n",
              "      <th>AREA</th>\n",
              "      <th>STATUS</th>\n",
              "      <th>MODALIDAD</th>\n",
              "      <th>JORNADA</th>\n",
              "      <th>PLAN</th>\n",
              "      <th>DEPARTAMENTAL</th>\n",
              "    </tr>\n",
              "  </thead>\n",
              "  <tbody>\n",
              "    <tr>\n",
              "      <th>1</th>\n",
              "      <td>10-01-0001-42</td>\n",
              "      <td>10-001</td>\n",
              "      <td>SUCHITEPEQUEZ</td>\n",
              "      <td>MAZATENANGO</td>\n",
              "      <td>EODP NO.1</td>\n",
              "      <td>11 CALLE FINAL ZONA 1, FRENTE INST. TECNICO IN...</td>\n",
              "      <td>58359230</td>\n",
              "      <td>RITA ELENA GONZALEZ GARCIA</td>\n",
              "      <td>NaN</td>\n",
              "      <td>PARVULOS</td>\n",
              "      <td>OFICIAL</td>\n",
              "      <td>URBANA</td>\n",
              "      <td>ABIERTA</td>\n",
              "      <td>MONOLINGUE</td>\n",
              "      <td>MATUTINA</td>\n",
              "      <td>DIARIO(REGULAR)</td>\n",
              "      <td>SUCHITEPÉQUEZ</td>\n",
              "    </tr>\n",
              "    <tr>\n",
              "      <th>2</th>\n",
              "      <td>10-01-0002-42</td>\n",
              "      <td>NaN</td>\n",
              "      <td>SUCHITEPEQUEZ</td>\n",
              "      <td>MAZATENANGO</td>\n",
              "      <td>EPDP ANEXA A COLEGIO 'REPUBLICA DE GUATEMALA'</td>\n",
              "      <td>3A AVE. 7A CALLE ZONA 1</td>\n",
              "      <td>NaN</td>\n",
              "      <td>NaN</td>\n",
              "      <td>NaN</td>\n",
              "      <td>PARVULOS</td>\n",
              "      <td>PRIVADO</td>\n",
              "      <td>URBANA</td>\n",
              "      <td>CERRADA TEMPORALMENTE</td>\n",
              "      <td>MONOLINGUE</td>\n",
              "      <td>MATUTINA</td>\n",
              "      <td>DIARIO(REGULAR)</td>\n",
              "      <td>SUCHITEPÉQUEZ</td>\n",
              "    </tr>\n",
              "    <tr>\n",
              "      <th>3</th>\n",
              "      <td>10-01-0003-42</td>\n",
              "      <td>10-018</td>\n",
              "      <td>SUCHITEPEQUEZ</td>\n",
              "      <td>MAZATENANGO</td>\n",
              "      <td>COLEGIO \"FROEBEL\"</td>\n",
              "      <td>11. CALLE FINAL ZONA 3 COLONIA SAN ANDRES</td>\n",
              "      <td>41341472</td>\n",
              "      <td>JUANA MARIA CIFUENTES PEREZ</td>\n",
              "      <td>LIGIA ALEJANDRA CIFUENTES GODOY DE LOPEZ</td>\n",
              "      <td>PARVULOS</td>\n",
              "      <td>PRIVADO</td>\n",
              "      <td>URBANA</td>\n",
              "      <td>ABIERTA</td>\n",
              "      <td>MONOLINGUE</td>\n",
              "      <td>MATUTINA</td>\n",
              "      <td>DIARIO(REGULAR)</td>\n",
              "      <td>SUCHITEPÉQUEZ</td>\n",
              "    </tr>\n",
              "    <tr>\n",
              "      <th>4</th>\n",
              "      <td>10-01-0004-42</td>\n",
              "      <td>10-019</td>\n",
              "      <td>SUCHITEPEQUEZ</td>\n",
              "      <td>MAZATENANGO</td>\n",
              "      <td>INSTITUTO PRIVADO MIXTO TECNOLOGICO DEL SUROCC...</td>\n",
              "      <td>FINCA CHOJOJA</td>\n",
              "      <td>78722582-52932245</td>\n",
              "      <td>REYNA DEL ROSARIO CHAVEZ BARROW DE PACHECO</td>\n",
              "      <td>JOSE FELICIANO ESCOBAR MARTINEZ</td>\n",
              "      <td>PARVULOS</td>\n",
              "      <td>PRIVADO</td>\n",
              "      <td>URBANA</td>\n",
              "      <td>ABIERTA</td>\n",
              "      <td>MONOLINGUE</td>\n",
              "      <td>MATUTINA</td>\n",
              "      <td>DIARIO(REGULAR)</td>\n",
              "      <td>SUCHITEPÉQUEZ</td>\n",
              "    </tr>\n",
              "    <tr>\n",
              "      <th>5</th>\n",
              "      <td>10-01-0005-42</td>\n",
              "      <td>10-019</td>\n",
              "      <td>SUCHITEPEQUEZ</td>\n",
              "      <td>MAZATENANGO</td>\n",
              "      <td>COLEGIO PRIVADO MIXTO LICEO MAZATECO</td>\n",
              "      <td>6A AVE. 2-21 ZONA 1</td>\n",
              "      <td>40281538</td>\n",
              "      <td>REYNA DEL ROSARIO CHAVEZ BARROW DE PACHECO</td>\n",
              "      <td>SANDRY ZIOMARA MANCIO MENDEZ</td>\n",
              "      <td>PARVULOS</td>\n",
              "      <td>PRIVADO</td>\n",
              "      <td>URBANA</td>\n",
              "      <td>ABIERTA</td>\n",
              "      <td>MONOLINGUE</td>\n",
              "      <td>MATUTINA</td>\n",
              "      <td>DIARIO(REGULAR)</td>\n",
              "      <td>SUCHITEPÉQUEZ</td>\n",
              "    </tr>\n",
              "  </tbody>\n",
              "</table>\n",
              "</div>"
            ],
            "text/plain": [
              "0         CODIGO DISTRITO  ...             PLAN  DEPARTAMENTAL\n",
              "1  10-01-0001-42   10-001  ...  DIARIO(REGULAR)  SUCHITEPÉQUEZ\n",
              "2  10-01-0002-42      NaN  ...  DIARIO(REGULAR)  SUCHITEPÉQUEZ\n",
              "3  10-01-0003-42   10-018  ...  DIARIO(REGULAR)  SUCHITEPÉQUEZ\n",
              "4  10-01-0004-42   10-019  ...  DIARIO(REGULAR)  SUCHITEPÉQUEZ\n",
              "5  10-01-0005-42   10-019  ...  DIARIO(REGULAR)  SUCHITEPÉQUEZ\n",
              "\n",
              "[5 rows x 17 columns]"
            ]
          },
          "metadata": {
            "tags": []
          },
          "execution_count": 11
        }
      ]
    }
  ]
}